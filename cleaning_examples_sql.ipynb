{
 "cells": [
  {
   "cell_type": "markdown",
   "id": "e2ae75b5",
   "metadata": {},
   "source": [
    "In this notebook, we will explore how data cleaning with SQL differs from Python, using the same dataset as in the cleaning_examples_python notebook. LInk: https://github.com/EmiTR/Data_Cleaning/blob/main/cleaning_examples.ipynb\n",
    "\n",
    "**It is important to note** that data from a Data Warehouse (DWH) usually does not come as a single, ready-to-use analytical table. Instead, we often need to write SQL queries to join data from different tables.\n",
    "\n",
    "In another project, I will simulate the actual data tables I work with and demonstrate how to combine them efficiently and use them for analysis."
   ]
  },
  {
   "cell_type": "code",
   "execution_count": null,
   "id": "97b92c11",
   "metadata": {},
   "outputs": [],
   "source": [
    "import duckdb as db\n",
    "# duckdb is an in-process SQL OLAP database management system. It is designed to support analytical query workloads. \n",
    "# I dont want to install a full database system like PostgreSQL or MySQL just for data cleaning. DuckDB allows me to run SQL queries directly on CSV files and other data formats without needing a separate server.\n",
    "# I <3 duck"
   ]
  },
  {
   "cell_type": "code",
   "execution_count": null,
   "id": "e368d546",
   "metadata": {},
   "outputs": [
    {
     "data": {
      "text/plain": [
       "┌───────────────┬───────────────────┬─────────────────────┬───────────┬─────────────────────┬────────────┐\n",
       "│ TransactionID │      Client       │     Beneficiary     │ AmountUSD │ TransactionDateTime │ ClientTier │\n",
       "│     int64     │      varchar      │       varchar       │  double   │      timestamp      │  varchar   │\n",
       "├───────────────┼───────────────────┼─────────────────────┼───────────┼─────────────────────┼────────────┤\n",
       "│             1 │  Darth Vader      │  Luke Skywalker     │     120.5 │ 2024-06-01 12:30:00 │  Gold      │\n",
       "│             2 │  <Frodo Baggins>  │  Gandalf the Grey   │      NULL │ 2024-06-01 12:31:00 │  Silver    │\n",
       "│             3 │  Tony Stark       │  Bruce Banner       │     300.4 │ 2024-06-01 12:32:00 │  Gold      │\n",
       "│             4 │  Tony Stark       │  Bruce Banner       │     300.4 │ 2024-06-01 12:32:00 │  Gold      │\n",
       "│             5 │  Jon Snow.        │  Daenerys Targaryen │    150.75 │ 2024-06-01 12:33:00 │  Platinum  │\n",
       "│             6 │  Harry*Potter     │  Hermione Granger   │     200.0 │ 2024-06-01 12:34:00 │  Gold      │\n",
       "│             7 │  Luke Skywalker   │  Han Solo           │      90.0 │ 2024-06-01 12:35:00 │  Silver    │\n",
       "│             8 │  Katniss Everdeen │  Peeta Mellark      │     120.0 │ 2024-06-01 12:36:00 │  Bronze    │\n",
       "│             9 │  Michael Scott.   │  Dwight Schrute     │      85.0 │ 2024-06-01 12:37:00 │  Silver    │\n",
       "│            10 │  Walter White     │  Jesse Pinkman      │      70.0 │ 2024-06-01 12:38:00 │  Gold      │\n",
       "│             · │      ·            │       ·             │        ·  │          ·          │   ·        │\n",
       "│             · │      ·            │       ·             │        ·  │          ·          │   ·        │\n",
       "│             · │      ·            │       ·             │        ·  │          ·          │   ·        │\n",
       "│            31 │  Tony Stark       │  Steve Rogers       │     310.0 │ 2024-06-01 12:58:00 │  Platinum  │\n",
       "│            32 │  Michael Corleone │  Sonny Corleone     │     125.0 │ 2024-06-01 12:59:00 │  Silver    │\n",
       "│            33 │  Jack Sparrow     │  Davy Jones         │     140.0 │ 2024-06-01 13:00:00 │  Gold      │\n",
       "│            34 │  Fox Mulder       │  Dana Scully        │      75.0 │ 2024-06-01 13:01:00 │  Bronze    │\n",
       "│            35 │  Harry Potter     │  Ron Weasley        │     190.0 │ 2024-06-01 13:02:00 │  Gold      │\n",
       "│            36 │  Mario            │  Luigi              │      85.0 │ 2024-06-01 13:03:00 │  Silver    │\n",
       "│            37 │  Walter White     │  Skyler White       │      65.0 │ 2024-06-01 13:03:00 │  Bronze    │\n",
       "│            38 │  Bruce Wayne      │  Joker              │     255.0 │ 2024-06-01 13:06:00 │  Platinum  │\n",
       "│            39 │  Optimus Prime    │  Megatron           │     100.0 │ 2024-06-01 13:09:00 │ NULL       │\n",
       "│            40 │  Clark Kent       │  Lois Lane          │     210.0 │ 2024-06-01 13:10:00 │  Silver    │\n",
       "├───────────────┴───────────────────┴─────────────────────┴───────────┴─────────────────────┴────────────┤\n",
       "│ 40 rows (20 shown)                                                                           6 columns │\n",
       "└────────────────────────────────────────────────────────────────────────────────────────────────────────┘"
      ]
     },
     "execution_count": 4,
     "metadata": {},
     "output_type": "execute_result"
    }
   ],
   "source": [
    "db.sql(\"SELECT * FROM 'data_to_be_cleaned.csv'\")\n",
    "# duckdb can run queries directly not only on csv files but also on pandas dataframes and more. \n",
    "# Which makes it super versatile for data tasks."
   ]
  },
  {
   "cell_type": "markdown",
   "id": "3f30a6b6",
   "metadata": {},
   "source": [
    "So, as we can see, the mini dataset above is unprocessed and full of issues. 😉  \n",
    "I won’t go into the details of these problems here, since they were already described in the other notebook.\n",
    "What I want to do in this one is achieve the same result using SQL."
   ]
  },
  {
   "cell_type": "code",
   "execution_count": null,
   "id": "0e128849",
   "metadata": {},
   "outputs": [
    {
     "data": {
      "text/plain": [
       "┌───────┬─────────────────────┬───────────┬─────────┬────────────┬─────────┐\n",
       "│  cid  │        name         │   type    │ notnull │ dflt_value │   pk    │\n",
       "│ int32 │       varchar       │  varchar  │ boolean │  varchar   │ boolean │\n",
       "├───────┼─────────────────────┼───────────┼─────────┼────────────┼─────────┤\n",
       "│     0 │ TransactionID       │ BIGINT    │ false   │ NULL       │ false   │\n",
       "│     1 │ Client              │ VARCHAR   │ false   │ NULL       │ false   │\n",
       "│     2 │ Beneficiary         │ VARCHAR   │ false   │ NULL       │ false   │\n",
       "│     3 │ AmountUSD           │ DOUBLE    │ false   │ NULL       │ false   │\n",
       "│     4 │ TransactionDateTime │ TIMESTAMP │ false   │ NULL       │ false   │\n",
       "│     5 │ ClientTier          │ VARCHAR   │ false   │ NULL       │ false   │\n",
       "└───────┴─────────────────────┴───────────┴─────────┴────────────┴─────────┘"
      ]
     },
     "execution_count": 6,
     "metadata": {},
     "output_type": "execute_result"
    }
   ],
   "source": [
    "# First, create a view from the CSV file\n",
    "db.sql(\"CREATE VIEW data_table AS SELECT * FROM 'data_to_be_cleaned.csv';\")\n",
    "# Now, get the table info\n",
    "db.sql(\"PRAGMA table_info('data_table');\")\n",
    "# This shows the columns and their types. DuckDB infers types automatically, but we can cast them as needed in queries.\n",
    "# notnull boolean: indicates if the column can have NULL values, false = 0 = NULL possible\n",
    "# dflt_value:  Default values\n",
    "# pk indicates if the column is part of the primary key."
   ]
  },
  {
   "cell_type": "markdown",
   "id": "148cabcf",
   "metadata": {},
   "source": [
    "The data types here are not the same as in Pandas, but that’s expected and perfectly fine.\n",
    "In real-world scenarios, table information is usually just a click away when using a Data Warehouse (DWH) tool such as MySQL Workbench or PL/SQL Developer."
   ]
  },
  {
   "cell_type": "markdown",
   "id": "c7d4bff6",
   "metadata": {},
   "source": [
    "# Data Cleansing"
   ]
  },
  {
   "cell_type": "markdown",
   "id": "1c885504",
   "metadata": {},
   "source": [
    "**Cleaned_df.dropna(subset=[\"Client\"], inplace=True)**  \n",
    "Dropping rows like this is quite rare in Data Warehouse (DWH) analysis work.\n",
    "Instead, we usually use SELECT statements to choose the data we want to see, and let the rest be."
   ]
  },
  {
   "cell_type": "code",
   "execution_count": 7,
   "id": "4885b139",
   "metadata": {},
   "outputs": [
    {
     "data": {
      "text/plain": [
       "┌───────────────┬───────────────────┬─────────────────────┬───────────┬─────────────────────┬────────────┐\n",
       "│ TransactionID │      Client       │     Beneficiary     │ AmountUSD │ TransactionDateTime │ ClientTier │\n",
       "│     int64     │      varchar      │       varchar       │  double   │      timestamp      │  varchar   │\n",
       "├───────────────┼───────────────────┼─────────────────────┼───────────┼─────────────────────┼────────────┤\n",
       "│             1 │  Darth Vader      │  Luke Skywalker     │     120.5 │ 2024-06-01 12:30:00 │  Gold      │\n",
       "│             2 │  <Frodo Baggins>  │  Gandalf the Grey   │      NULL │ 2024-06-01 12:31:00 │  Silver    │\n",
       "│             3 │  Tony Stark       │  Bruce Banner       │     300.4 │ 2024-06-01 12:32:00 │  Gold      │\n",
       "│             4 │  Tony Stark       │  Bruce Banner       │     300.4 │ 2024-06-01 12:32:00 │  Gold      │\n",
       "│             5 │  Jon Snow.        │  Daenerys Targaryen │    150.75 │ 2024-06-01 12:33:00 │  Platinum  │\n",
       "│             6 │  Harry*Potter     │  Hermione Granger   │     200.0 │ 2024-06-01 12:34:00 │  Gold      │\n",
       "│             7 │  Luke Skywalker   │  Han Solo           │      90.0 │ 2024-06-01 12:35:00 │  Silver    │\n",
       "│             8 │  Katniss Everdeen │  Peeta Mellark      │     120.0 │ 2024-06-01 12:36:00 │  Bronze    │\n",
       "│             9 │  Michael Scott.   │  Dwight Schrute     │      85.0 │ 2024-06-01 12:37:00 │  Silver    │\n",
       "│            10 │  Walter White     │  Jesse Pinkman      │      70.0 │ 2024-06-01 12:38:00 │  Gold      │\n",
       "│             · │      ·            │       ·             │        ·  │          ·          │   ·        │\n",
       "│             · │      ·            │       ·             │        ·  │          ·          │   ·        │\n",
       "│             · │      ·            │       ·             │        ·  │          ·          │   ·        │\n",
       "│            31 │  Tony Stark       │  Steve Rogers       │     310.0 │ 2024-06-01 12:58:00 │  Platinum  │\n",
       "│            32 │  Michael Corleone │  Sonny Corleone     │     125.0 │ 2024-06-01 12:59:00 │  Silver    │\n",
       "│            33 │  Jack Sparrow     │  Davy Jones         │     140.0 │ 2024-06-01 13:00:00 │  Gold      │\n",
       "│            34 │  Fox Mulder       │  Dana Scully        │      75.0 │ 2024-06-01 13:01:00 │  Bronze    │\n",
       "│            35 │  Harry Potter     │  Ron Weasley        │     190.0 │ 2024-06-01 13:02:00 │  Gold      │\n",
       "│            36 │  Mario            │  Luigi              │      85.0 │ 2024-06-01 13:03:00 │  Silver    │\n",
       "│            37 │  Walter White     │  Skyler White       │      65.0 │ 2024-06-01 13:03:00 │  Bronze    │\n",
       "│            38 │  Bruce Wayne      │  Joker              │     255.0 │ 2024-06-01 13:06:00 │  Platinum  │\n",
       "│            39 │  Optimus Prime    │  Megatron           │     100.0 │ 2024-06-01 13:09:00 │ NULL       │\n",
       "│            40 │  Clark Kent       │  Lois Lane          │     210.0 │ 2024-06-01 13:10:00 │  Silver    │\n",
       "├───────────────┴───────────────────┴─────────────────────┴───────────┴─────────────────────┴────────────┤\n",
       "│ 38 rows (20 shown)                                                                           6 columns │\n",
       "└────────────────────────────────────────────────────────────────────────────────────────────────────────┘"
      ]
     },
     "execution_count": 7,
     "metadata": {},
     "output_type": "execute_result"
    }
   ],
   "source": [
    "db.sql(\"SELECT * FROM data_table WHERE Client IS NOT NULL;\")"
   ]
  },
  {
   "cell_type": "markdown",
   "id": "451a2c9a",
   "metadata": {},
   "source": [
    "See how the table shrinks from 40 to 38 rows."
   ]
  },
  {
   "cell_type": "markdown",
   "id": "718fb0b9",
   "metadata": {},
   "source": [
    "**Deleting Duplicates**\n",
    "In SQL, duplicates can be handled in different ways:\n",
    "- SELECT DISTINCT ensures that each row in the result set is unique.\n",
    "- GROUP BY also removes duplicates, but it is primarily intended for aggregation (e.g., SUM, COUNT).\n",
    "\n",
    "I’ve seen beginners use GROUP BY when SELECT DISTINCT would be sufficient. This often makes queries more complex than necessary. Dude..."
   ]
  },
  {
   "cell_type": "code",
   "execution_count": 8,
   "id": "2c76c098",
   "metadata": {},
   "outputs": [
    {
     "data": {
      "text/plain": [
       "┌───────────────────┬────────────┬─────────────────────┬───────────┬─────────────────────┐\n",
       "│      Client       │ ClientTier │     Beneficiary     │ AmountUSD │ TransactionDateTime │\n",
       "│      varchar      │  varchar   │       varchar       │  double   │      timestamp      │\n",
       "├───────────────────┼────────────┼─────────────────────┼───────────┼─────────────────────┤\n",
       "│  Jon Snow.        │  Platinum  │  Daenerys Targaryen │    150.75 │ 2024-06-01 12:33:00 │\n",
       "│  Bruce Wayne      │  Platinum  │  Joker              │     255.0 │ 2024-06-01 13:06:00 │\n",
       "│  Michael Scott    │ NULL       │  Jim Halpert        │      85.0 │ 2024-06-01 12:48:00 │\n",
       "│  Ellen Ripley     │  Bronze    │  Xenomorph XX121    │     180.0 │ 2024-06-01 12:52:00 │\n",
       "│  Sherlock Holmes  │  Gold      │  John Watson        │     220.0 │ 2024-06-01 12:49:00 │\n",
       "│  Walter White     │  Gold      │  Jesse Pinkman      │      70.0 │ 2024-06-01 12:38:00 │\n",
       "│  James Bond       │  Gold      │  M                  │     105.0 │ 2024-06-01 12:57:00 │\n",
       "│  Katniss Everdeen │  Bronze    │  Peeta Mellark      │     120.0 │ 2024-06-01 12:36:00 │\n",
       "│  Michael Scott.   │  Silver    │  Dwight Schrute     │      85.0 │ 2024-06-01 12:37:00 │\n",
       "│  Indiana Jones    │  Gold      │  Mola Ram           │     170.0 │ 2024-06-01 12:55:00 │\n",
       "│       ·           │   ·        │    ·                │       ·   │          ·          │\n",
       "│       ·           │   ·        │    ·                │       ·   │          ·          │\n",
       "│       ·           │   ·        │    ·                │       ·   │          ·          │\n",
       "│  Frodo Baggins    │  Bronze    │  Sauron             │     100.0 │ 2024-06-01 12:41:00 │\n",
       "│  Frodo Baggins    │  Silver    │  Bilbo Baggins      │      60.0 │ 2024-06-01 12:46:00 │\n",
       "│  -Walter White-   │  Gold      │ GUS FRING           │      95.0 │ 2024-06-01 12:47:00 │\n",
       "│  Rick Sanchez     │  Gold      │  Morty Smith        │     130.0 │ 2024-06-01 12:53:00 │\n",
       "│  Jack Sparrow     │  Gold      │  Davy Jones         │     140.0 │ 2024-06-01 13:00:00 │\n",
       "│  Tony Stark       │  Gold      │  Peter Parker       │     320.5 │ 2024-06-01 12:39:00 │\n",
       "│  James T. Kirk    │  Silver    │  Spock              │      90.0 │ 2024-06-01 12:56:00 │\n",
       "│  Tony Stark       │  Platinum  │  Steve Rogers       │     310.0 │ 2024-06-01 12:58:00 │\n",
       "│  Mario            │  Silver    │  Luigi              │      85.0 │ 2024-06-01 13:03:00 │\n",
       "│  Harry*Potter     │  Gold      │  Hermione Granger   │     200.0 │ 2024-06-01 12:34:00 │\n",
       "├───────────────────┴────────────┴─────────────────────┴───────────┴─────────────────────┤\n",
       "│ 36 rows (20 shown)                                                           5 columns │\n",
       "└────────────────────────────────────────────────────────────────────────────────────────┘"
      ]
     },
     "execution_count": 8,
     "metadata": {},
     "output_type": "execute_result"
    }
   ],
   "source": [
    "db.sql(\"SELECT distinct Client, ClientTier, Beneficiary, AmountUSD,TransactionDateTime FROM data_table WHERE Client IS NOT NULL;\")"
   ]
  },
  {
   "cell_type": "markdown",
   "id": "301572e4",
   "metadata": {},
   "source": [
    "See how the table shrinks from 38 to 36 rows."
   ]
  },
  {
   "cell_type": "markdown",
   "id": "efb11cfc",
   "metadata": {},
   "source": [
    "**Dealing with formating issues**"
   ]
  },
  {
   "cell_type": "markdown",
   "id": "8aabe568",
   "metadata": {},
   "source": [
    "We can use regular expressions (regex) in SQL just like in Python.\n",
    "But remember: the SQL motto is “choose what you want to see” — there are no intermediate steps stored along the way.\n",
    "\n",
    "Notice how I combined DISTINCT, the WHERE clause, and everything else directly in a single query."
   ]
  },
  {
   "cell_type": "code",
   "execution_count": 13,
   "id": "0f9e8052",
   "metadata": {},
   "outputs": [
    {
     "data": {
      "text/plain": [
       "┌───────────────────┬─────────────────────┐\n",
       "│  Client_cleaned   │ Beneficiary_cleaned │\n",
       "│      varchar      │       varchar       │\n",
       "├───────────────────┼─────────────────────┤\n",
       "│  WALTER WHITE     │  JESSE PINKMAN      │\n",
       "│  JON SNOW         │  ARYA STARK         │\n",
       "│  HERMIONE GRANGER │  HARRY POTTER       │\n",
       "│  SHERLOCK HOLMES  │  JOHN WATSON        │\n",
       "│  BRUCE WAYNE      │  JOKER              │\n",
       "│  JAMES T KIRK     │  SPOCK              │\n",
       "│  DARTH VADER      │  LUKE SKYWALKER     │\n",
       "│  JON SNOW         │  DAENERYS TARGARYEN │\n",
       "│  KATNISS EVERDEEN │  PEETA MELLARK      │\n",
       "│  TONY STARK       │  BRUCE BANNER       │\n",
       "│      ·            │     ·               │\n",
       "│      ·            │     ·               │\n",
       "│      ·            │     ·               │\n",
       "│  WALTER WHITE     │ GUS FRING           │\n",
       "│  JAMES BOND       │  M                  │\n",
       "│  FOX MULDER       │  DANA SCULLY        │\n",
       "│  WALTER WHITE     │  SKYLER WHITE       │\n",
       "│  NEO              │  MORPHEUS           │\n",
       "│  SAMWISE GAMGEE   │  FRODO BAGGINS      │\n",
       "│  RICK SANCHEZ     │  MORTY SMITH        │\n",
       "│  FRODO BAGGINS    │  SAURON             │\n",
       "│  FRODO BAGGINS    │  BILBO BAGGINS      │\n",
       "│  MICHAEL SCOTT    │  JIM HALPERT        │\n",
       "├───────────────────┴─────────────────────┤\n",
       "│ 36 rows (20 shown)            2 columns │\n",
       "└─────────────────────────────────────────┘"
      ]
     },
     "execution_count": 13,
     "metadata": {},
     "output_type": "execute_result"
    }
   ],
   "source": [
    "# replace(r\"[^A-Za-z\\s]\", \"\", regex=True)\n",
    "db.sql(\"\"\"\n",
    "\tSELECT DISTINCT \n",
    "\t\tUPPER(regexp_replace(Client, '[^A-Za-z ]', '', 'g')) AS Client_cleaned,\n",
    "\t\tUPPER(regexp_replace(Beneficiary, '[^A-Za-z ]', '', 'g')) AS Beneficiary_cleaned\n",
    "\tFROM data_table\n",
    "\tWHERE Client IS NOT NULL;\n",
    "\"\"\")"
   ]
  },
  {
   "cell_type": "markdown",
   "id": "6eb799d6",
   "metadata": {},
   "source": [
    "**Replacing NULL value**\n",
    "This can be a bit controversial. Personally, I prefer not to replace numeric values unnecessarily.\n",
    "For example, filling missing values might make sense in a Machine Learning (ML) context, but for business reporting it can distort reality.\n",
    "\n",
    "If the business needs to know how much revenue we made this quarter, replacing missing values would give the wrong impression. In such cases, it is usually better to leave the value as NULL.\n",
    "\n",
    "However, if technically required, it is of course possible to replace NULL values in SQL (e.g., with COALESCE or IFNULL)."
   ]
  },
  {
   "cell_type": "code",
   "execution_count": 15,
   "id": "ff3c0372",
   "metadata": {},
   "outputs": [
    {
     "data": {
      "text/plain": [
       "┌───────────────────┬─────────────────────┬───────────┬──────────────────────────┬────────────────────────┐\n",
       "│  Client_cleaned   │ Beneficiary_cleaned │ AmountUSD │ Revenue_no_null_COALESCE │ Revenue_no_null_IFNULL │\n",
       "│      varchar      │       varchar       │  double   │          double          │         double         │\n",
       "├───────────────────┼─────────────────────┼───────────┼──────────────────────────┼────────────────────────┤\n",
       "│  FRODO BAGGINS    │  GANDALF THE GREY   │      NULL │                      0.0 │                    0.0 │\n",
       "│  JON SNOW         │  DAENERYS TARGARYEN │    150.75 │                   150.75 │                 150.75 │\n",
       "│  HARRYPOTTER      │  HERMIONE GRANGER   │     200.0 │                    200.0 │                  200.0 │\n",
       "│  KATNISS EVERDEEN │  PEETA MELLARK      │     120.0 │                    120.0 │                  120.0 │\n",
       "│  TONY STARK       │  PETER PARKER       │     320.5 │                    320.5 │                  320.5 │\n",
       "│ DARTH VADER       │  OBIWAN KENOBI      │     135.0 │                    135.0 │                  135.0 │\n",
       "│  FRODO BAGGINS    │  SAURON             │     100.0 │                    100.0 │                  100.0 │\n",
       "│  RICK SANCHEZ     │  MORTY SMITH        │     130.0 │                    130.0 │                  130.0 │\n",
       "│  JACK SPARROW     │  DAVY JONES         │     140.0 │                    140.0 │                  140.0 │\n",
       "│  WALTER WHITE     │  SKYLER WHITE       │      65.0 │                     65.0 │                   65.0 │\n",
       "│       ·           │       ·             │        ·  │                       ·  │                     ·  │\n",
       "│       ·           │       ·             │        ·  │                       ·  │                     ·  │\n",
       "│       ·           │       ·             │        ·  │                       ·  │                     ·  │\n",
       "│  SAMWISE GAMGEE   │  FRODO BAGGINS      │      NULL │                      0.0 │                    0.0 │\n",
       "│  ELLEN RIPLEY     │  XENOMORPH XX       │     180.0 │                    180.0 │                  180.0 │\n",
       "│  MICHAEL CORLEONE │  SONNY CORLEONE     │     125.0 │                    125.0 │                  125.0 │\n",
       "│  INDIANA JONES    │  MOLA RAM           │     170.0 │                    170.0 │                  170.0 │\n",
       "│  TONY STARK       │  STEVE ROGERS       │     310.0 │                    310.0 │                  310.0 │\n",
       "│  FOX MULDER       │  DANA SCULLY        │      75.0 │                     75.0 │                   75.0 │\n",
       "│  HARRY POTTER     │  RON WEASLEY        │     190.0 │                    190.0 │                  190.0 │\n",
       "│  DARTH VADER      │  LUKE SKYWALKER     │     120.5 │                    120.5 │                  120.5 │\n",
       "│  HERMIONE GRANGER │  HARRY POTTER       │     250.0 │                    250.0 │                  250.0 │\n",
       "│  MICHAEL SCOTT    │  JIM HALPERT        │      85.0 │                     85.0 │                   85.0 │\n",
       "├───────────────────┴─────────────────────┴───────────┴──────────────────────────┴────────────────────────┤\n",
       "│ 36 rows (20 shown)                                                                            5 columns │\n",
       "└─────────────────────────────────────────────────────────────────────────────────────────────────────────┘"
      ]
     },
     "execution_count": 15,
     "metadata": {},
     "output_type": "execute_result"
    }
   ],
   "source": [
    "db.sql(\"\"\"\n",
    "\tSELECT DISTINCT \n",
    "\t\tUPPER(regexp_replace(Client, '[^A-Za-z ]', '', 'g')) AS Client_cleaned,\n",
    "\t\tUPPER(regexp_replace(Beneficiary, '[^A-Za-z ]', '', 'g')) AS Beneficiary_cleaned,\n",
    "        AmountUSD,\n",
    "        COALESCE(AmountUSD, 0) AS Revenue_no_null_COALESCE,\n",
    "       -- Coalesce returns the first non-null value in the list of arguments.\n",
    "        IFNULL(AmountUSD, 0) AS Revenue_no_null_IFNULL\n",
    "       -- Ifnull returns the second argument if the first is null.\n",
    "\tFROM data_table\n",
    "\tWHERE Client IS NOT NULL;\n",
    "\"\"\")"
   ]
  }
 ],
 "metadata": {
  "kernelspec": {
   "display_name": ".venv",
   "language": "python",
   "name": "python3"
  },
  "language_info": {
   "codemirror_mode": {
    "name": "ipython",
    "version": 3
   },
   "file_extension": ".py",
   "mimetype": "text/x-python",
   "name": "python",
   "nbconvert_exporter": "python",
   "pygments_lexer": "ipython3",
   "version": "3.11.0"
  }
 },
 "nbformat": 4,
 "nbformat_minor": 5
}

{
 "cells": [
  {
   "cell_type": "markdown",
   "id": "e2ae75b5",
   "metadata": {},
   "source": [
    "In this notebook, we will explore how data cleaning with SQL differs from Python, using the same dataset as in the cleaning_examples_python notebook.\n",
    "\n",
    "**It is important to note** that data from a Data Warehouse (DWH) usually does not come as a single, ready-to-use analytical table. Instead, we often need to write SQL queries to join data from different tables.\n",
    "\n",
    "In another project, I will simulate the actual data tables I work with and demonstrate how to combine them efficiently and use them for analysis."
   ]
  },
  {
   "cell_type": "code",
   "execution_count": null,
   "id": "97b92c11",
   "metadata": {},
   "outputs": [],
   "source": [
    "import duckdb as db\n",
    "# duckdb is an in-process SQL OLAP database management system. It is designed to support analytical query workloads. \n",
    "# I dont want to install a full database system like PostgreSQL or MySQL just for data cleaning. DuckDB allows me to run SQL queries directly on CSV files and other data formats without needing a separate server.\n",
    "# I <3 duck"
   ]
  },
  {
   "cell_type": "code",
   "execution_count": null,
   "id": "e368d546",
   "metadata": {},
   "outputs": [
    {
     "data": {
      "text/plain": [
       "┌───────────────┬───────────────────┬─────────────────────┬───────────┬─────────────────────┬────────────┐\n",
       "│ TransactionID │      Client       │     Beneficiary     │ AmountUSD │ TransactionDateTime │ ClientTier │\n",
       "│     int64     │      varchar      │       varchar       │  double   │      timestamp      │  varchar   │\n",
       "├───────────────┼───────────────────┼─────────────────────┼───────────┼─────────────────────┼────────────┤\n",
       "│             1 │  Darth Vader      │  Luke Skywalker     │     120.5 │ 2024-06-01 12:30:00 │  Gold      │\n",
       "│             2 │  <Frodo Baggins>  │  Gandalf the Grey   │      NULL │ 2024-06-01 12:31:00 │  Silver    │\n",
       "│             3 │  Tony Stark       │  Bruce Banner       │     300.4 │ 2024-06-01 12:32:00 │  Gold      │\n",
       "│             4 │  Tony Stark       │  Bruce Banner       │     300.4 │ 2024-06-01 12:32:00 │  Gold      │\n",
       "│             5 │  Jon Snow.        │  Daenerys Targaryen │    150.75 │ 2024-06-01 12:33:00 │  Platinum  │\n",
       "│             6 │  Harry*Potter     │  Hermione Granger   │     200.0 │ 2024-06-01 12:34:00 │  Gold      │\n",
       "│             7 │  Luke Skywalker   │  Han Solo           │      90.0 │ 2024-06-01 12:35:00 │  Silver    │\n",
       "│             8 │  Katniss Everdeen │  Peeta Mellark      │     120.0 │ 2024-06-01 12:36:00 │  Bronze    │\n",
       "│             9 │  Michael Scott.   │  Dwight Schrute     │      85.0 │ 2024-06-01 12:37:00 │  Silver    │\n",
       "│            10 │  Walter White     │  Jesse Pinkman      │      70.0 │ 2024-06-01 12:38:00 │  Gold      │\n",
       "│             · │      ·            │       ·             │        ·  │          ·          │   ·        │\n",
       "│             · │      ·            │       ·             │        ·  │          ·          │   ·        │\n",
       "│             · │      ·            │       ·             │        ·  │          ·          │   ·        │\n",
       "│            31 │  Tony Stark       │  Steve Rogers       │     310.0 │ 2024-06-01 12:58:00 │  Platinum  │\n",
       "│            32 │  Michael Corleone │  Sonny Corleone     │     125.0 │ 2024-06-01 12:59:00 │  Silver    │\n",
       "│            33 │  Jack Sparrow     │  Davy Jones         │     140.0 │ 2024-06-01 13:00:00 │  Gold      │\n",
       "│            34 │  Fox Mulder       │  Dana Scully        │      75.0 │ 2024-06-01 13:01:00 │  Bronze    │\n",
       "│            35 │  Harry Potter     │  Ron Weasley        │     190.0 │ 2024-06-01 13:02:00 │  Gold      │\n",
       "│            36 │  Mario            │  Luigi              │      85.0 │ 2024-06-01 13:03:00 │  Silver    │\n",
       "│            37 │  Walter White     │  Skyler White       │      65.0 │ 2024-06-01 13:03:00 │  Bronze    │\n",
       "│            38 │  Bruce Wayne      │  Joker              │     255.0 │ 2024-06-01 13:06:00 │  Platinum  │\n",
       "│            39 │  Optimus Prime    │  Megatron           │     100.0 │ 2024-06-01 13:09:00 │ NULL       │\n",
       "│            40 │  Clark Kent       │  Lois Lane          │     210.0 │ 2024-06-01 13:10:00 │  Silver    │\n",
       "├───────────────┴───────────────────┴─────────────────────┴───────────┴─────────────────────┴────────────┤\n",
       "│ 40 rows (20 shown)                                                                           6 columns │\n",
       "└────────────────────────────────────────────────────────────────────────────────────────────────────────┘"
      ]
     },
     "execution_count": 4,
     "metadata": {},
     "output_type": "execute_result"
    }
   ],
   "source": [
    "db.sql(\"SELECT * FROM 'data_to_be_cleaned.csv'\")\n",
    "# duckdb can run queries directly not only on csv files but also on pandas dataframes and more. \n",
    "# Which makes it super versatile for data tasks."
   ]
  }
 ],
 "metadata": {
  "kernelspec": {
   "display_name": ".venv",
   "language": "python",
   "name": "python3"
  },
  "language_info": {
   "codemirror_mode": {
    "name": "ipython",
    "version": 3
   },
   "file_extension": ".py",
   "mimetype": "text/x-python",
   "name": "python",
   "nbconvert_exporter": "python",
   "pygments_lexer": "ipython3",
   "version": "3.11.0"
  }
 },
 "nbformat": 4,
 "nbformat_minor": 5
}
